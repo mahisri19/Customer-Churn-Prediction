{
  "cells": [
    {
      "cell_type": "markdown",
      "metadata": {},
      "source": [
        "Data Collection"
      ]
    },
    {
      "cell_type": "code",
      "execution_count": null,
      "metadata": {
        "colab": {
          "base_uri": "https://localhost:8080/"
        },
        "id": "XeHnWfQbm9bu",
        "outputId": "91d679ab-1663-43e7-af73-9cb8df1a6c9a"
      },
      "outputs": [],
      "source": [
        "import pandas as pd\n",
        "df = pd.read_csv('Telco-Customer-Churn.csv')\n",
        "print(df.head())\n",
        "print(df.info())"
      ]
    },
    {
      "cell_type": "markdown",
      "metadata": {},
      "source": [
        "Feature Engineering"
      ]
    },
    {
      "cell_type": "code",
      "execution_count": null,
      "metadata": {
        "colab": {
          "base_uri": "https://localhost:8080/"
        },
        "id": "UT92-HJGnIEF",
        "outputId": "dc8d75eb-c345-494d-9d55-ed9b6cdce44c"
      },
      "outputs": [],
      "source": [
        "# Clean TotalCharges\n",
        "df['TotalCharges'] = pd.to_numeric(df['TotalCharges'], errors='coerce')\n",
        "df['TotalCharges'].fillna(df['TotalCharges'].median(), inplace=True)\n",
        "\n",
        "# Clean 'No internet service' and 'No phone service'\n",
        "columns_to_clean = ['MultipleLines', 'OnlineSecurity', 'OnlineBackup', 'DeviceProtection',\n",
        "                    'TechSupport', 'StreamingTV', 'StreamingMovies']\n",
        "for col in columns_to_clean:\n",
        "    df[col] = df[col].replace({'No internet service':'No', 'No phone service':'No'})\n",
        "\n",
        "# Feature: Average Monthly Spend\n",
        "df['AvgMonthlySpend'] = df['TotalCharges'] / df['tenure'].replace(0, 1)\n",
        "\n",
        "# Feature: Tenure Grouping\n",
        "def tenure_group(tenure):\n",
        "    if tenure <= 6:\n",
        "        return 'New'\n",
        "    elif tenure <= 24:\n",
        "        return 'Mid-term'\n",
        "    else:\n",
        "        return 'Long-term'\n",
        "df['TenureGroup'] = df['tenure'].apply(tenure_group)\n",
        "\n",
        "# Encoding Binary Variables\n",
        "binary_cols = ['gender', 'Partner', 'Dependents', 'PhoneService', 'PaperlessBilling', 'Churn',\n",
        "               'MultipleLines', 'OnlineSecurity', 'OnlineBackup', 'DeviceProtection',\n",
        "               'TechSupport', 'StreamingTV', 'StreamingMovies']\n",
        "for col in binary_cols:\n",
        "    df[col] = df[col].map({'Yes':1, 'No':0, 'Male':0, 'Female':1})\n",
        "\n",
        "# One-Hot Encoding\n",
        "df = pd.get_dummies(df, columns=['InternetService', 'Contract', 'PaymentMethod', 'TenureGroup'], drop_first=True)\n",
        "\n",
        "# Drop Irrelevant Column\n",
        "df.drop('customerID', axis=1, inplace=True)\n",
        "\n",
        "# Scale Important Features\n",
        "from sklearn.preprocessing import StandardScaler\n",
        "scaler = StandardScaler()\n",
        "df[['tenure', 'MonthlyCharges', 'TotalCharges', 'AvgMonthlySpend']] = scaler.fit_transform(\n",
        "    df[['tenure', 'MonthlyCharges', 'TotalCharges', 'AvgMonthlySpend']]\n",
        ")\n",
        "\n",
        "print(\"Feature Engineering Complete\")\n"
      ]
    },
    {
      "cell_type": "markdown",
      "metadata": {},
      "source": [
        "Model Selection "
      ]
    },
    {
      "cell_type": "code",
      "execution_count": null,
      "metadata": {
        "id": "URR84SipnIGm"
      },
      "outputs": [],
      "source": [
        "from sklearn.model_selection import train_test_split\n",
        "\n",
        "X = df.drop('Churn', axis=1)\n",
        "y = df['Churn']\n",
        "\n",
        "\n",
        "X_train, X_test, y_train, y_test = train_test_split(X, y, stratify=y, test_size=0.2, random_state=42)\n"
      ]
    },
    {
      "cell_type": "markdown",
      "metadata": {},
      "source": [
        "Model Training"
      ]
    },
    {
      "cell_type": "code",
      "execution_count": null,
      "metadata": {
        "colab": {
          "base_uri": "https://localhost:8080/"
        },
        "id": "RzpABSo4nIIt",
        "outputId": "86f2bf50-4554-4d25-d67b-a32fb5c05d34"
      },
      "outputs": [],
      "source": [
        "from sklearn.linear_model import LogisticRegression\n",
        "from sklearn.ensemble import RandomForestClassifier\n",
        "\n",
        "\n",
        "lr = LogisticRegression(max_iter=1000)\n",
        "lr.fit(X_train, y_train)\n",
        "\n",
        "\n",
        "rf = RandomForestClassifier(n_estimators=100, random_state=42)\n",
        "rf.fit(X_train, y_train)\n",
        "\n",
        "print(\"Models Trained Successfully\")\n"
      ]
    },
    {
      "cell_type": "markdown",
      "metadata": {},
      "source": [
        "Model Evaluation"
      ]
    },
    {
      "cell_type": "code",
      "execution_count": null,
      "metadata": {
        "colab": {
          "base_uri": "https://localhost:8080/"
        },
        "id": "WL-pmz71nILG",
        "outputId": "90ef1893-2051-4aee-fbe0-2483e2130ab2"
      },
      "outputs": [],
      "source": [
        "from sklearn.metrics import classification_report, accuracy_score\n",
        "\n",
        "\n",
        "y_pred_lr = lr.predict(X_test)\n",
        "print(\"\\nLogistic Regression Performance:\")\n",
        "print(\"Accuracy:\", accuracy_score(y_test, y_pred_lr))\n",
        "print(classification_report(y_test, y_pred_lr))\n",
        "\n",
        "\n",
        "y_pred_rf = rf.predict(X_test)\n",
        "print(\"\\nRandom Forest Performance:\")\n",
        "print(\"Accuracy:\", accuracy_score(y_test, y_pred_rf))\n",
        "print(classification_report(y_test, y_pred_rf))\n"
      ]
    },
    {
      "cell_type": "markdown",
      "metadata": {},
      "source": [
        "Churn Prediction and Action"
      ]
    },
    {
      "cell_type": "code",
      "execution_count": null,
      "metadata": {
        "colab": {
          "base_uri": "https://localhost:8080/"
        },
        "id": "e3I_3WzqnIOg",
        "outputId": "579aa703-6e9b-4aff-921e-0abddd1b3db8"
      },
      "outputs": [],
      "source": [
        "\n",
        "churn_probabilities = rf.predict_proba(X_test)[:,1]\n",
        "\n",
        "\n",
        "results = X_test.copy()\n",
        "results['Actual_Churn'] = y_test.values\n",
        "results['Predicted_Probability'] = churn_probabilities\n",
        "\n",
        "\n",
        "high_risk_customers = results[results['Predicted_Probability'] > 0.6]\n",
        "print(\"High Risk Customers Detected:\\n\", high_risk_customers.head())\n"
      ]
    },
    {
      "cell_type": "markdown",
      "metadata": {},
      "source": [
        "Download the churn predicted excel file"
      ]
    },
    {
      "cell_type": "code",
      "execution_count": null,
      "metadata": {
        "id": "cDL_b62yn9pL"
      },
      "outputs": [],
      "source": [
        "results.to_csv('churn_predictions.csv', index=False)"
      ]
    },
    {
      "cell_type": "markdown",
      "metadata": {},
      "source": [
        "Feature Importance for Power Bi visualization "
      ]
    },
    {
      "cell_type": "code",
      "execution_count": 13,
      "metadata": {
        "id": "V4QzwDtin9se"
      },
      "outputs": [],
      "source": [
        "import pandas as pd\n",
        "import matplotlib.pyplot as plt\n",
        "\n",
        "importances = rf.feature_importances_\n",
        "feature_names = X.columns\n",
        "importance_df = pd.DataFrame({'Feature': feature_names, 'Importance': importances})\n",
        "importance_df.sort_values(by='Importance', ascending=False).to_csv('feature_importance.csv', index=False)\n"
      ]
    }
  ],
  "metadata": {
    "colab": {
      "provenance": []
    },
    "kernelspec": {
      "display_name": "Python 3",
      "name": "python3"
    },
    "language_info": {
      "name": "python"
    }
  },
  "nbformat": 4,
  "nbformat_minor": 0
}
